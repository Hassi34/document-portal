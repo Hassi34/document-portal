{
 "cells": [
  {
   "cell_type": "code",
   "execution_count": 1,
   "id": "2135a0f0",
   "metadata": {},
   "outputs": [],
   "source": [
    "import logging\n",
    "import os \n",
    "from datetime import datetime"
   ]
  },
  {
   "cell_type": "code",
   "execution_count": 2,
   "id": "8f59467e",
   "metadata": {},
   "outputs": [
    {
     "name": "stdout",
     "output_type": "stream",
     "text": [
      "/Users/hasanain/Library/CloudStorage/OneDrive-Personal/DS/KN Ac/DocumentPortal/notebooks/logs\n"
     ]
    }
   ],
   "source": [
    "logs_dir = os.path.join(os.getcwd(), \"logs\")\n",
    "print(logs_dir)"
   ]
  },
  {
   "cell_type": "code",
   "execution_count": 3,
   "id": "ef1525ee",
   "metadata": {},
   "outputs": [],
   "source": [
    "os.makedirs(logs_dir, exist_ok=True )"
   ]
  },
  {
   "cell_type": "code",
   "execution_count": 4,
   "id": "b0cc448a",
   "metadata": {},
   "outputs": [
    {
     "data": {
      "text/plain": [
       "'08022025_161659.log'"
      ]
     },
     "execution_count": 4,
     "metadata": {},
     "output_type": "execute_result"
    }
   ],
   "source": [
    "log_file = f\"{datetime.now().strftime('%m%d%Y_%H%M%S')}.log\"\n",
    "log_file"
   ]
  },
  {
   "cell_type": "code",
   "execution_count": 5,
   "id": "108d7ba4",
   "metadata": {},
   "outputs": [],
   "source": [
    "LOG_FILE_PATH = os.path.join(logs_dir, log_file)"
   ]
  },
  {
   "cell_type": "code",
   "execution_count": 7,
   "id": "d3b698b3",
   "metadata": {},
   "outputs": [],
   "source": [
    "logging.basicConfig(\n",
    "    filename= LOG_FILE_PATH,\n",
    "    filemode= 'a',\n",
    "    format= '[%(asctime)s] %(levelname)s - %(name)s - (line:%(lineno)d) - %(message)s',\n",
    "    level= logging.INFO\n",
    ")\n",
    "\n",
    "logger = logging.getLogger(\"DocumentPortal\")\n",
    "\n",
    "logger.info(\"Starting the application\")\n",
    "\n"
   ]
  },
  {
   "cell_type": "code",
   "execution_count": null,
   "id": "392c2292",
   "metadata": {},
   "outputs": [],
   "source": []
  }
 ],
 "metadata": {
  "kernelspec": {
   "display_name": ".venv",
   "language": "python",
   "name": "python3"
  },
  "language_info": {
   "codemirror_mode": {
    "name": "ipython",
    "version": 3
   },
   "file_extension": ".py",
   "mimetype": "text/x-python",
   "name": "python",
   "nbconvert_exporter": "python",
   "pygments_lexer": "ipython3",
   "version": "3.10.18"
  }
 },
 "nbformat": 4,
 "nbformat_minor": 5
}
